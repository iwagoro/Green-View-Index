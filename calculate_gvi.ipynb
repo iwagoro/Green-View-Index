{
 "cells": [
  {
   "cell_type": "code",
   "execution_count": 10,
   "metadata": {},
   "outputs": [],
   "source": [
    "import os\n",
    "import concurrent.futures\n",
    "import pandas as pd\n",
    "import geopandas as gpd\n",
    "import requests\n",
    "from tqdm import tqdm\n",
    "from PIL import Image\n",
    "from sklearn.cluster import MeanShift\n",
    "import numpy as np\n",
    "import matplotlib.pyplot as plt\n",
    "from io import BytesIO\n",
    "from skimage.color import rgb2hsv\n",
    "from skimage.filters.rank import modal"
   ]
  },
  {
   "cell_type": "code",
   "execution_count": 11,
   "metadata": {},
   "outputs": [],
   "source": [
    "# 画像の保存先ディレクトリ\n",
    "IMAGE_DIR = \"shibuya_images\""
   ]
  },
  {
   "cell_type": "code",
   "execution_count": 12,
   "metadata": {},
   "outputs": [],
   "source": [
    "points = gpd.read_file(\"/workspace/app/Green-View-Index/points_shibuya/shibuya_points_200.shp\")\n",
    "max_id = points[\"point_id\"].max()\n",
    "headings = [0,60,120,180,240,300]\n",
    "pitch = 0"
   ]
  },
  {
   "cell_type": "code",
   "execution_count": 13,
   "metadata": {},
   "outputs": [],
   "source": [
    "import numpy as np\n",
    "import matplotlib.pyplot as plt\n",
    "from skimage import io, segmentation, color, filters\n",
    "\n",
    "\n",
    "def graythresh(array, level):\n",
    "    \"\"\"OTSUのしきい値を計算\"\"\"\n",
    "    maxVal = np.max(array)\n",
    "    minVal = np.min(array)\n",
    "\n",
    "    if maxVal <= 1:\n",
    "        array = array * 255\n",
    "    elif maxVal >= 256:\n",
    "        array = np.int((array - minVal) / (maxVal - minVal))\n",
    "\n",
    "    negIdx = np.where(array < 0)\n",
    "    array[negIdx] = 0\n",
    "\n",
    "    hist = np.histogram(array, range(257))\n",
    "    P_hist = hist[0] * 1.0 / np.sum(hist[0])\n",
    "\n",
    "    omega = P_hist.cumsum()\n",
    "    temp = np.arange(256)\n",
    "    mu = P_hist * (temp + 1)\n",
    "    mu = mu.cumsum()\n",
    "\n",
    "    n = len(mu)\n",
    "    mu_t = mu[n - 1]\n",
    "    sigma_b_squared = (mu_t * omega - mu) ** 2 / (omega * (1 - omega))\n",
    "    maxval = np.max(sigma_b_squared)\n",
    "\n",
    "    index = np.where(sigma_b_squared == maxval)\n",
    "    idx = np.mean(index)\n",
    "    threshold = (idx - 1) / 255.0\n",
    "\n",
    "    if np.isnan(threshold):\n",
    "        threshold = level\n",
    "\n",
    "    return threshold\n"
   ]
  },
  {
   "cell_type": "code",
   "execution_count": 14,
   "metadata": {},
   "outputs": [],
   "source": [
    "def extract_greenery(image):\n",
    "    \"\"\"緑の領域を抽出してマスクを作成\"\"\"\n",
    "\n",
    "    # Quickshiftでセグメンテーション\n",
    "    segments = segmentation.quickshift(image, kernel_size=3, max_dist=6, ratio=0.5)\n",
    "\n",
    "    # 画像の正規化\n",
    "    I = image / 255.0\n",
    "\n",
    "    # RGBチャンネルの取得\n",
    "    red = I[:, :, 0]\n",
    "    green = I[:, :, 1]\n",
    "    blue = I[:, :, 2]\n",
    "\n",
    "    # 緑の領域を強調\n",
    "    green_red_diff = green - red\n",
    "    green_blue_diff = green - blue\n",
    "    ExG = green_red_diff + green_blue_diff\n",
    "\n",
    "    # Otsuのしきい値を使用して緑のピクセルを抽出\n",
    "    threshold = graythresh(ExG, 0.1)\n",
    "    green_mask = ExG > threshold\n",
    "\n",
    "    return green_mask\n",
    "\n"
   ]
  },
  {
   "cell_type": "code",
   "execution_count": 15,
   "metadata": {},
   "outputs": [],
   "source": [
    "def calculate_gvi(green_mask):\n",
    "    \"\"\"GVIを計算する関数\"\"\"\n",
    "\n",
    "    # 緑のピクセル数をカウント\n",
    "    green_pixel_count = np.sum(green_mask)\n",
    "\n",
    "    # 画像全体のピクセル数を取得\n",
    "    total_pixel_count = green_mask.size\n",
    "\n",
    "    # GVIの計算（緑のピクセルの割合）\n",
    "    gvi = (green_pixel_count / total_pixel_count) * 100  # パーセンテージ表記\n",
    "\n",
    "    return gvi"
   ]
  },
  {
   "cell_type": "code",
   "execution_count": 16,
   "metadata": {},
   "outputs": [
    {
     "name": "stderr",
     "output_type": "stream",
     "text": [
      "Processing GVI for points:   0%|          | 0/3102 [00:00<?, ?it/s]"
     ]
    },
    {
     "name": "stderr",
     "output_type": "stream",
     "text": [
      "Processing GVI for points:   0%|          | 0/3102 [01:43<?, ?it/s]\n"
     ]
    },
    {
     "ename": "KeyboardInterrupt",
     "evalue": "",
     "output_type": "error",
     "traceback": [
      "\u001b[0;31m---------------------------------------------------------------------------\u001b[0m",
      "\u001b[0;31mKeyboardInterrupt\u001b[0m                         Traceback (most recent call last)",
      "Cell \u001b[0;32mIn[16], line 13\u001b[0m\n\u001b[1;32m     11\u001b[0m image \u001b[38;5;241m=\u001b[39m io\u001b[38;5;241m.\u001b[39mimread(\u001b[38;5;124mf\u001b[39m\u001b[38;5;124m\"\u001b[39m\u001b[38;5;132;01m{\u001b[39;00mIMAGE_DIR\u001b[38;5;132;01m}\u001b[39;00m\u001b[38;5;124m/\u001b[39m\u001b[38;5;132;01m{\u001b[39;00mpoint_id\u001b[38;5;132;01m}\u001b[39;00m\u001b[38;5;124m_\u001b[39m\u001b[38;5;132;01m{\u001b[39;00mheading\u001b[38;5;132;01m}\u001b[39;00m\u001b[38;5;124m_\u001b[39m\u001b[38;5;132;01m{\u001b[39;00mpitch\u001b[38;5;132;01m}\u001b[39;00m\u001b[38;5;124m.jpg\u001b[39m\u001b[38;5;124m\"\u001b[39m)\n\u001b[1;32m     12\u001b[0m \u001b[38;5;66;03m# 緑のマスクを取得\u001b[39;00m\n\u001b[0;32m---> 13\u001b[0m green_mask \u001b[38;5;241m=\u001b[39m \u001b[43mextract_greenery\u001b[49m\u001b[43m(\u001b[49m\u001b[43mimage\u001b[49m\u001b[43m)\u001b[49m\n\u001b[1;32m     14\u001b[0m \u001b[38;5;66;03m# GVIを計算\u001b[39;00m\n\u001b[1;32m     15\u001b[0m gvi \u001b[38;5;241m+\u001b[39m\u001b[38;5;241m=\u001b[39m calculate_gvi(green_mask)\n",
      "Cell \u001b[0;32mIn[14], line 5\u001b[0m, in \u001b[0;36mextract_greenery\u001b[0;34m(image)\u001b[0m\n\u001b[1;32m      2\u001b[0m \u001b[38;5;250m\u001b[39m\u001b[38;5;124;03m\"\"\"緑の領域を抽出してマスクを作成\"\"\"\u001b[39;00m\n\u001b[1;32m      4\u001b[0m \u001b[38;5;66;03m# Quickshiftでセグメンテーション\u001b[39;00m\n\u001b[0;32m----> 5\u001b[0m segments \u001b[38;5;241m=\u001b[39m \u001b[43msegmentation\u001b[49m\u001b[38;5;241;43m.\u001b[39;49m\u001b[43mquickshift\u001b[49m\u001b[43m(\u001b[49m\u001b[43mimage\u001b[49m\u001b[43m,\u001b[49m\u001b[43m \u001b[49m\u001b[43mkernel_size\u001b[49m\u001b[38;5;241;43m=\u001b[39;49m\u001b[38;5;241;43m3\u001b[39;49m\u001b[43m,\u001b[49m\u001b[43m \u001b[49m\u001b[43mmax_dist\u001b[49m\u001b[38;5;241;43m=\u001b[39;49m\u001b[38;5;241;43m6\u001b[39;49m\u001b[43m,\u001b[49m\u001b[43m \u001b[49m\u001b[43mratio\u001b[49m\u001b[38;5;241;43m=\u001b[39;49m\u001b[38;5;241;43m0.5\u001b[39;49m\u001b[43m)\u001b[49m\n\u001b[1;32m      7\u001b[0m \u001b[38;5;66;03m# 画像の正規化\u001b[39;00m\n\u001b[1;32m      8\u001b[0m I \u001b[38;5;241m=\u001b[39m image \u001b[38;5;241m/\u001b[39m \u001b[38;5;241m255.0\u001b[39m\n",
      "File \u001b[0;32m/usr/local/lib/python3.12/site-packages/skimage/segmentation/_quickshift.py:97\u001b[0m, in \u001b[0;36mquickshift\u001b[0;34m(image, ratio, kernel_size, max_dist, return_tree, sigma, convert2lab, rng, channel_axis)\u001b[0m\n\u001b[1;32m     94\u001b[0m image \u001b[38;5;241m=\u001b[39m gaussian(image, sigma\u001b[38;5;241m=\u001b[39m[sigma, sigma, \u001b[38;5;241m0\u001b[39m], mode\u001b[38;5;241m=\u001b[39m\u001b[38;5;124m'\u001b[39m\u001b[38;5;124mreflect\u001b[39m\u001b[38;5;124m'\u001b[39m, channel_axis\u001b[38;5;241m=\u001b[39m\u001b[38;5;241m-\u001b[39m\u001b[38;5;241m1\u001b[39m)\n\u001b[1;32m     95\u001b[0m image \u001b[38;5;241m=\u001b[39m np\u001b[38;5;241m.\u001b[39mascontiguousarray(image \u001b[38;5;241m*\u001b[39m ratio)\n\u001b[0;32m---> 97\u001b[0m segment_mask \u001b[38;5;241m=\u001b[39m \u001b[43m_quickshift_cython\u001b[49m\u001b[43m(\u001b[49m\n\u001b[1;32m     98\u001b[0m \u001b[43m    \u001b[49m\u001b[43mimage\u001b[49m\u001b[43m,\u001b[49m\n\u001b[1;32m     99\u001b[0m \u001b[43m    \u001b[49m\u001b[43mkernel_size\u001b[49m\u001b[38;5;241;43m=\u001b[39;49m\u001b[43mkernel_size\u001b[49m\u001b[43m,\u001b[49m\n\u001b[1;32m    100\u001b[0m \u001b[43m    \u001b[49m\u001b[43mmax_dist\u001b[49m\u001b[38;5;241;43m=\u001b[39;49m\u001b[43mmax_dist\u001b[49m\u001b[43m,\u001b[49m\n\u001b[1;32m    101\u001b[0m \u001b[43m    \u001b[49m\u001b[43mreturn_tree\u001b[49m\u001b[38;5;241;43m=\u001b[39;49m\u001b[43mreturn_tree\u001b[49m\u001b[43m,\u001b[49m\n\u001b[1;32m    102\u001b[0m \u001b[43m    \u001b[49m\u001b[43mrng\u001b[49m\u001b[38;5;241;43m=\u001b[39;49m\u001b[43mrng\u001b[49m\u001b[43m,\u001b[49m\n\u001b[1;32m    103\u001b[0m \u001b[43m\u001b[49m\u001b[43m)\u001b[49m\n\u001b[1;32m    104\u001b[0m \u001b[38;5;28;01mreturn\u001b[39;00m segment_mask\n",
      "File \u001b[0;32m_quickshift_cy.pyx:146\u001b[0m, in \u001b[0;36mskimage.segmentation._quickshift_cy._quickshift_cython\u001b[0;34m()\u001b[0m\n",
      "File \u001b[0;32m/usr/local/lib/python3.12/site-packages/numpy/_core/numeric.py:59\u001b[0m, in \u001b[0;36m_zeros_like_dispatcher\u001b[0;34m(a, dtype, order, subok, shape, device)\u001b[0m\n\u001b[1;32m     37\u001b[0m array_function_dispatch \u001b[38;5;241m=\u001b[39m functools\u001b[38;5;241m.\u001b[39mpartial(\n\u001b[1;32m     38\u001b[0m     overrides\u001b[38;5;241m.\u001b[39marray_function_dispatch, module\u001b[38;5;241m=\u001b[39m\u001b[38;5;124m'\u001b[39m\u001b[38;5;124mnumpy\u001b[39m\u001b[38;5;124m'\u001b[39m)\n\u001b[1;32m     41\u001b[0m __all__ \u001b[38;5;241m=\u001b[39m [\n\u001b[1;32m     42\u001b[0m     \u001b[38;5;124m'\u001b[39m\u001b[38;5;124mnewaxis\u001b[39m\u001b[38;5;124m'\u001b[39m, \u001b[38;5;124m'\u001b[39m\u001b[38;5;124mndarray\u001b[39m\u001b[38;5;124m'\u001b[39m, \u001b[38;5;124m'\u001b[39m\u001b[38;5;124mflatiter\u001b[39m\u001b[38;5;124m'\u001b[39m, \u001b[38;5;124m'\u001b[39m\u001b[38;5;124mnditer\u001b[39m\u001b[38;5;124m'\u001b[39m, \u001b[38;5;124m'\u001b[39m\u001b[38;5;124mnested_iters\u001b[39m\u001b[38;5;124m'\u001b[39m, \u001b[38;5;124m'\u001b[39m\u001b[38;5;124mufunc\u001b[39m\u001b[38;5;124m'\u001b[39m,\n\u001b[1;32m     43\u001b[0m     \u001b[38;5;124m'\u001b[39m\u001b[38;5;124marange\u001b[39m\u001b[38;5;124m'\u001b[39m, \u001b[38;5;124m'\u001b[39m\u001b[38;5;124marray\u001b[39m\u001b[38;5;124m'\u001b[39m, \u001b[38;5;124m'\u001b[39m\u001b[38;5;124masarray\u001b[39m\u001b[38;5;124m'\u001b[39m, \u001b[38;5;124m'\u001b[39m\u001b[38;5;124masanyarray\u001b[39m\u001b[38;5;124m'\u001b[39m, \u001b[38;5;124m'\u001b[39m\u001b[38;5;124mascontiguousarray\u001b[39m\u001b[38;5;124m'\u001b[39m,\n\u001b[0;32m   (...)\u001b[0m\n\u001b[1;32m     55\u001b[0m     \u001b[38;5;124m'\u001b[39m\u001b[38;5;124mfull\u001b[39m\u001b[38;5;124m'\u001b[39m, \u001b[38;5;124m'\u001b[39m\u001b[38;5;124mfull_like\u001b[39m\u001b[38;5;124m'\u001b[39m, \u001b[38;5;124m'\u001b[39m\u001b[38;5;124mmatmul\u001b[39m\u001b[38;5;124m'\u001b[39m, \u001b[38;5;124m'\u001b[39m\u001b[38;5;124mshares_memory\u001b[39m\u001b[38;5;124m'\u001b[39m, \u001b[38;5;124m'\u001b[39m\u001b[38;5;124mmay_share_memory\u001b[39m\u001b[38;5;124m'\u001b[39m,\n\u001b[1;32m     56\u001b[0m     \u001b[38;5;124m'\u001b[39m\u001b[38;5;124m_get_promotion_state\u001b[39m\u001b[38;5;124m'\u001b[39m, \u001b[38;5;124m'\u001b[39m\u001b[38;5;124m_set_promotion_state\u001b[39m\u001b[38;5;124m'\u001b[39m]\n\u001b[0;32m---> 59\u001b[0m \u001b[38;5;28;01mdef\u001b[39;00m \u001b[38;5;21m_zeros_like_dispatcher\u001b[39m(\n\u001b[1;32m     60\u001b[0m     a, dtype\u001b[38;5;241m=\u001b[39m\u001b[38;5;28;01mNone\u001b[39;00m, order\u001b[38;5;241m=\u001b[39m\u001b[38;5;28;01mNone\u001b[39;00m, subok\u001b[38;5;241m=\u001b[39m\u001b[38;5;28;01mNone\u001b[39;00m, shape\u001b[38;5;241m=\u001b[39m\u001b[38;5;28;01mNone\u001b[39;00m, \u001b[38;5;241m*\u001b[39m, device\u001b[38;5;241m=\u001b[39m\u001b[38;5;28;01mNone\u001b[39;00m\n\u001b[1;32m     61\u001b[0m ):\n\u001b[1;32m     62\u001b[0m     \u001b[38;5;28;01mreturn\u001b[39;00m (a,)\n\u001b[1;32m     65\u001b[0m \u001b[38;5;129m@array_function_dispatch\u001b[39m(_zeros_like_dispatcher)\n\u001b[1;32m     66\u001b[0m \u001b[38;5;28;01mdef\u001b[39;00m \u001b[38;5;21mzeros_like\u001b[39m(\n\u001b[1;32m     67\u001b[0m     a, dtype\u001b[38;5;241m=\u001b[39m\u001b[38;5;28;01mNone\u001b[39;00m, order\u001b[38;5;241m=\u001b[39m\u001b[38;5;124m'\u001b[39m\u001b[38;5;124mK\u001b[39m\u001b[38;5;124m'\u001b[39m, subok\u001b[38;5;241m=\u001b[39m\u001b[38;5;28;01mTrue\u001b[39;00m, shape\u001b[38;5;241m=\u001b[39m\u001b[38;5;28;01mNone\u001b[39;00m, \u001b[38;5;241m*\u001b[39m, device\u001b[38;5;241m=\u001b[39m\u001b[38;5;28;01mNone\u001b[39;00m\n\u001b[1;32m     68\u001b[0m ):\n",
      "\u001b[0;31mKeyboardInterrupt\u001b[0m: "
     ]
    }
   ],
   "source": [
    "from tqdm import tqdm\n",
    "\n",
    "# tqdmを使用して進捗バーを表示\n",
    "for idx, point in tqdm(points.iterrows(), total=len(points), desc=\"Processing GVI for points\"):\n",
    "    point_id = point[\"point_id\"]\n",
    "    gvi = 0\n",
    "    for heading in headings:\n",
    "        # 画像の読み込み\n",
    "        if not os.path.exists(f\"{IMAGE_DIR}/{point_id}_{heading}_{pitch}.jpg\"):\n",
    "            continue\n",
    "        image = io.imread(f\"{IMAGE_DIR}/{point_id}_{heading}_{pitch}.jpg\")\n",
    "        # 緑のマスクを取得\n",
    "        green_mask = extract_greenery(image)\n",
    "        # GVIを計算\n",
    "        gvi += calculate_gvi(green_mask)\n",
    "\n",
    "    # 各方向のGVIの平均を取る\n",
    "    gvi /= len(headings)\n",
    "\n",
    "    # GVIをデータフレームに保存\n",
    "    points.loc[idx, \"gvi\"] = gvi"
   ]
  }
 ],
 "metadata": {
  "kernelspec": {
   "display_name": "Python 3",
   "language": "python",
   "name": "python3"
  },
  "language_info": {
   "codemirror_mode": {
    "name": "ipython",
    "version": 3
   },
   "file_extension": ".py",
   "mimetype": "text/x-python",
   "name": "python",
   "nbconvert_exporter": "python",
   "pygments_lexer": "ipython3",
   "version": "3.12.5"
  }
 },
 "nbformat": 4,
 "nbformat_minor": 2
}
